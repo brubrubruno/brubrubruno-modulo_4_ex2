{
 "cells": [
  {
   "cell_type": "markdown",
   "metadata": {
    "id": "XasUFGtinooF"
   },
   "source": [
    "## Exercício 1: Vestibular\n",
    "\n",
    "Considere que a os dados gerados na célula abaixo contêm o número de acertos de 100 alunos em um vestibular para um curso de exatas, divididas pelos respectivos assuntos. Considere que cada assunto possui um número de questões conforme a tabela abaixo:\n",
    "\n",
    "| assunto | número de questões |\n",
    "|:---:|:---:|\n",
    "| Matemática | 24 |\n",
    "| Português | 18 |\n",
    "| Geografia | 8 |\n",
    "| Inglês | 8 |\n",
    "| História | 8 |\n",
    "| Física | 12 |\n",
    "| Química | 12 |\n",
    "\n",
    "Usando os comandos de operações com DataFrames que você aprendeu na Aula 03, calcule:\n",
    "\n",
    "1. (operações com escalar) Calcule o percentual de acerto dos alunos por assunto.  \n",
    "2. (operações entre *DataFrames) Calcule o total de acertos de cada aluno.  \n",
    "3. Calcule o porcentual geral de cada aluno.  \n",
    "4. Suponha que a nota de corte para a segunda fase seja 45. Quantos alunos tiveram nota maior que 45?  "
   ]
  },
  {
   "cell_type": "code",
   "execution_count": 6,
   "metadata": {
    "id": "h8GaM1N8nooM"
   },
   "outputs": [],
   "source": [
    "import pandas as pd\n",
    "import numpy as np\n",
    "\n",
    "np.random.seed(42)\n",
    "df_mat = pd.DataFrame(np.random.randint(24, size=(100, 1)), columns=['Qt_acertos'])\n",
    "\n",
    "df_por = pd.DataFrame(np.random.randint(18, size=(100, 1)), columns=['Qt_acertos'])\n",
    "\n",
    "df_geo = pd.DataFrame(np.random.randint(8, size=(100, 1)), columns=['Qt_acertos'])\n",
    "\n",
    "df_ing = pd.DataFrame(np.random.randint(8, size=(100, 1)), columns=['Qt_acertos'])\n",
    "\n",
    "df_his = pd.DataFrame(np.random.randint(8, size=(100, 1)), columns=['Qt_acertos'])\n",
    "\n",
    "df_fis = pd.DataFrame(np.random.randint(12, size=(100, 1)), columns=['Qt_acertos'])\n",
    "\n",
    "df_qui = pd.DataFrame(np.random.randint(12, size=(100, 1)), columns=['Qt_acertos'])\n"
   ]
  },
  {
   "cell_type": "code",
   "execution_count": null,
   "metadata": {
    "colab": {
     "base_uri": "https://localhost:8080/"
    },
    "id": "YrUWhvBpnZoL",
    "outputId": "8b9c1cad-e6b9-43c5-e021-2e8f3eb85c69"
   },
   "outputs": [
    {
     "name": "stdout",
     "output_type": "stream",
     "text": [
      "   Qt_acertos\n",
      "0           6\n",
      "1          19\n",
      "2          14\n",
      "3          10\n",
      "4           7\n",
      "    Qt_acertos\n",
      "0            7\n",
      "1           10\n",
      "2           16\n",
      "3            7\n",
      "4            2\n",
      "..         ...\n",
      "95           4\n",
      "96           1\n",
      "97           5\n",
      "98          10\n",
      "99          15\n",
      "\n",
      "[100 rows x 1 columns]\n"
     ]
    }
   ],
   "source": [
    "\n",
    "materia = ['Matemática','Português','Geografia','Inglês','História','Física','Química']\n",
    "numero_questoes = [24,18,8,8,8,12,12]\n",
    "provas = pd.Series(data= numero_questoes, index= materia)\n",
    "print(df_mat.head())\n",
    "print(df_por)\n",
    "\n",
    "#1.(operações com escalar) Calcule o percentual de acerto dos alunos por assunto\n",
    "\n",
    "acerto_mat = (df_mat/provas['Matemática'])\n",
    "acerto_por = (df_por/provas['Português'])\n",
    "acerto_geo = (df_geo/provas['Geografia'])\n",
    "acerto_ing = (df_ing/provas['Inglês'])\n",
    "acerto_his = (df_his/provas['História'])\n",
    "acerto_fis = (df_fis/provas['Física'])\n",
    "acerto_qui = (df_qui/provas['Química'])"
   ]
  },
  {
   "cell_type": "code",
   "execution_count": null,
   "metadata": {
    "colab": {
     "base_uri": "https://localhost:8080/"
    },
    "id": "3VqW5BoxsSFL",
    "outputId": "c1348bc0-42c4-4f74-b034-166a0e544b9d"
   },
   "outputs": [
    {
     "name": "stdout",
     "output_type": "stream",
     "text": [
      "    Qt_acertos\n",
      "0           35\n",
      "1           48\n",
      "2           50\n",
      "3           32\n",
      "4           30\n",
      "..         ...\n",
      "95          34\n",
      "96          27\n",
      "97          40\n",
      "98          40\n",
      "99          42\n",
      "\n",
      "[100 rows x 1 columns]\n"
     ]
    }
   ],
   "source": [
    "#(operações entre *DataFrames) Calcule o total de acertos de cada aluno.\n",
    "total_acertos = df_mat + df_por + df_geo + df_ing + df_his + df_fis + df_qui\n",
    "print(total_acertos)"
   ]
  },
  {
   "cell_type": "code",
   "execution_count": null,
   "metadata": {
    "colab": {
     "base_uri": "https://localhost:8080/"
    },
    "id": "k_BHa6NXs7nI",
    "outputId": "dd16c57b-a2e1-4014-bda9-d311707e7c01"
   },
   "outputs": [
    {
     "name": "stdout",
     "output_type": "stream",
     "text": [
      "    Qt_acertos\n",
      "0     0.388889\n",
      "1     0.533333\n",
      "2     0.555556\n",
      "3     0.355556\n",
      "4     0.333333\n",
      "..         ...\n",
      "95    0.377778\n",
      "96    0.300000\n",
      "97    0.444444\n",
      "98    0.444444\n",
      "99    0.466667\n",
      "\n",
      "[100 rows x 1 columns]\n"
     ]
    }
   ],
   "source": [
    "#3.Calcule o porcentual geral de cada aluno.\n",
    "total_questoes= sum(numero_questoes)\n",
    "percent_acerto_total = total_acertos/total_questoes\n",
    "print(percent_acerto_total)\n"
   ]
  },
  {
   "cell_type": "code",
   "execution_count": null,
   "metadata": {
    "colab": {
     "base_uri": "https://localhost:8080/"
    },
    "id": "jdaB-gouuk7P",
    "outputId": "33e6c006-33cb-4463-9c2d-3c2999b21121"
   },
   "outputs": [
    {
     "name": "stdout",
     "output_type": "stream",
     "text": [
      "    Qt_acertos\n",
      "0           35\n",
      "3           32\n",
      "4           30\n",
      "6           29\n",
      "9           39\n",
      "..         ...\n",
      "95          34\n",
      "96          27\n",
      "97          40\n",
      "98          40\n",
      "99          42\n",
      "\n",
      "[66 rows x 1 columns]\n",
      "31\n"
     ]
    }
   ],
   "source": [
    "#4.Suponha que a nota de corte para a segunda fase seja 45. Quantos alunos tiveram nota maior que 45?\n",
    "maior_45 = total_acertos[total_acertos['Qt_acertos']>45]\n",
    "menor_45 =  total_acertos[total_acertos['Qt_acertos']<45]\n",
    "print(menor_45)\n",
    "print(len(maior_45))\n"
   ]
  },
  {
   "cell_type": "markdown",
   "metadata": {
    "id": "LP_9DZV2nooQ"
   },
   "source": [
    "## 2) Vestibular II\n",
    "\n",
    "Ainda sobre o mesmo banco de dados:\n",
    "\n",
    "1. Neste vestibular, quem 'zera' em matemática, física ou química está desqualificado. Monte um novo *DataFrame* com os alunos desqualificados por este critério.\n",
    "2. Quantos são esses alunos?\n",
    "3. Qual a média desses alunos em história e geografia?\n",
    "4. Monte um *DataFrame* com os alunos que passaram para a segunda fase. Repare que estes alunos não podem ter sido desqualificados."
   ]
  },
  {
   "cell_type": "code",
   "execution_count": null,
   "metadata": {
    "colab": {
     "base_uri": "https://localhost:8080/"
    },
    "id": "8yW1CF2fnooR",
    "outputId": "4ee3af9f-6763-4d3a-b8bb-04c98e259b47"
   },
   "outputs": [
    {
     "name": "stdout",
     "output_type": "stream",
     "text": [
      "    Qt_acertos\n",
      "3           32\n",
      "6           29\n",
      "10          31\n",
      "12          42\n",
      "14          31\n",
      "20          53\n",
      "25          27\n",
      "26          40\n",
      "27          50\n",
      "33          39\n",
      "35          48\n",
      "49          19\n",
      "56          39\n",
      "65          24\n",
      "66          31\n",
      "72          50\n",
      "73          37\n",
      "74          39\n",
      "84          26\n",
      "89          63\n",
      "92          40\n",
      "94          25\n",
      "98          40\n"
     ]
    }
   ],
   "source": [
    "# seu código aqui\n",
    "\n",
    "#1.Neste vestibular, quem 'zera' em matemática, física ou química está desqualificado. Monte um novo DataFrame com os alunos\n",
    "\n",
    "desclassificados = total_acertos[(df_mat['Qt_acertos'] == 0) |\n",
    "                                  (df_fis['Qt_acertos'] == 0) |\n",
    "                                 (df_qui['Qt_acertos'] == 0)] \n",
    "print(desclassificados)\n",
    "\n",
    "\n",
    "              "
   ]
  },
  {
   "cell_type": "code",
   "execution_count": null,
   "metadata": {
    "colab": {
     "base_uri": "https://localhost:8080/"
    },
    "id": "ommGPF_JcmYg",
    "outputId": "ad34dc76-f860-4bb5-9f9f-3d89a32bf955"
   },
   "outputs": [
    {
     "name": "stdout",
     "output_type": "stream",
     "text": [
      "23\n"
     ]
    }
   ],
   "source": [
    "#2.Quantos são esses alunos?\n",
    "\n",
    "print(len(desclassificados))"
   ]
  },
  {
   "cell_type": "code",
   "execution_count": null,
   "metadata": {
    "colab": {
     "base_uri": "https://localhost:8080/"
    },
    "id": "DDZkef6Pc0aB",
    "outputId": "4b9b377e-8a4b-48cf-ff5f-31dd04684ea6"
   },
   "outputs": [
    {
     "name": "stdout",
     "output_type": "stream",
     "text": [
      "Média de acertos em geografia: 3.2173913043478266\n",
      "Média de acertos em história: 3.434782608695653\n"
     ]
    }
   ],
   "source": [
    "#3.Qual a média desses alunos em história e geografia?\n",
    "desclassificados_acerto_hist =df_his[(df_mat['Qt_acertos'] == 0) |\n",
    "                                     (df_fis['Qt_acertos'] == 0) |\n",
    "                                      (df_qui['Qt_acertos'] == 0)]\n",
    "\n",
    "\n",
    "desclassificados_acerto_geo =df_geo[(df_mat['Qt_acertos'] == 0) |\n",
    "                                     (df_fis['Qt_acertos'] == 0) |\n",
    "                                      (df_qui['Qt_acertos'] == 0)]\n",
    "\n",
    "print(f\"Média de acertos em geografia: {sum(desclassificados_acerto_geo['Qt_acertos']/len(desclassificados_acerto_geo))}\")\n",
    "\n",
    "print(f\"Média de acertos em história: {sum(desclassificados_acerto_hist['Qt_acertos']/len(desclassificados_acerto_hist))}\")\n",
    "\n",
    "\n",
    "\n",
    "#media_his_desclassificados = df_his[desclassificados[0]]\n",
    "\n",
    "\n"
   ]
  },
  {
   "cell_type": "code",
   "execution_count": null,
   "metadata": {
    "colab": {
     "base_uri": "https://localhost:8080/"
    },
    "id": "4dBoz38Ng44Y",
    "outputId": "5947a9f7-828f-4998-b5f2-ab7998f29f50"
   },
   "outputs": [
    {
     "name": "stdout",
     "output_type": "stream",
     "text": [
      "    Qt_acertos\n",
      "1           48\n",
      "2           50\n",
      "5           50\n",
      "7           49\n",
      "8           58\n",
      "17          52\n",
      "18          50\n",
      "20          53\n",
      "24          50\n",
      "27          50\n",
      "31          54\n",
      "35          48\n",
      "36          56\n",
      "37          52\n",
      "39          49\n",
      "40          47\n",
      "42          48\n",
      "45          48\n",
      "48          55\n",
      "60          48\n",
      "62          46\n",
      "67          46\n",
      "70          62\n",
      "71          53\n",
      "72          50\n",
      "77          53\n",
      "78          66\n",
      "81          55\n",
      "88          50\n",
      "89          63\n",
      "93          56\n"
     ]
    }
   ],
   "source": [
    "#4.Monte um DataFrame com os alunos que passaram para a segunda fase. Repare que estes alunos não podem ter sido desqualificados.\n",
    "classificados = total_acertos[(df_mat['Qt_acertos'] < 0) |\n",
    "                              (df_fis['Qt_acertos'] < 0) |\n",
    "                              (df_qui['Qt_acertos'] < 0) |\n",
    "                              (total_acertos['Qt_acertos']>45)] \n",
    "\n",
    "print(classificados)\n"
   ]
  },
  {
   "cell_type": "markdown",
   "metadata": {
    "id": "EuM8zyjinooR"
   },
   "source": [
    "## 3) Vacinações no Acre\n",
    "Vamos trabalhar agora com a base de vacinações no Acre. Para facilitar a sua vida, copiamos o link do arquivo na célula abaixo.\n",
    "\n",
    "1. Quantas vacinas estão registradas nessa base?  \n",
    "2. Quantos pacientes foram vacinados? (considere um paciente para cada valor único de ```paciente_id```)  \n",
    "3. Quantos pacientes únicos tomaram a primeira dose? OBS: Há um caractere especial neste campo. Receba os valores do campo com o método ```.unique()```.   \n",
    "4. Quantos pacientes com menos de 18 anos foram vacinados?  \n",
    "5. Quantos estabelecimentos aplicaram vacina no Acre?\n",
    "\n",
    "\n",
    "**OBS:** O portal do DATASUS pode apresentar instabilidades, retornando um erro na segunda célula abaixo. Por este motivo está disponível uma base estática, que se for baixada para o seu *working directory* pode ser lida com este comando: ```df = pd.read_csv('registros de vacinacao covid ACRE.csv', sep=';')```.\n",
    "\n",
    "**OBS2:** Para saber qual é o seu working directory, rode no jupyter: ```!pwd```."
   ]
  },
  {
   "cell_type": "code",
   "execution_count": 4,
   "metadata": {
    "id": "0slIcs3MnooS"
   },
   "outputs": [],
   "source": [
    "arquivo = 'https://s3-sa-east-1.amazonaws.com/ckan.saude.gov.br/PNI/vacina/uf/2021-05-23/uf%3DAC/part-00000-63e5bee2-3684-4286-b709-7fe85483b04e.c000.csv'"
   ]
  },
  {
   "cell_type": "code",
   "execution_count": 10,
   "metadata": {},
   "outputs": [
    {
     "data": {
      "text/plain": [
       "'C:\\\\Users\\\\Pichau'"
      ]
     },
     "execution_count": 10,
     "metadata": {},
     "output_type": "execute_result"
    }
   ],
   "source": [
    "%pwd"
   ]
  },
  {
   "cell_type": "code",
   "execution_count": 14,
   "metadata": {
    "colab": {
     "base_uri": "https://localhost:8080/",
     "height": 242
    },
    "id": "9scxU3x-nooT",
    "outputId": "fd2fbf4a-3580-40e2-ea60-dd27dce0daa3"
   },
   "outputs": [],
   "source": [
    "# 1) Sua solução aqui\n",
    "df = pd.read_csv('registros de vacinacao covid ACRE.csv', sep=';')\n"
   ]
  },
  {
   "cell_type": "code",
   "execution_count": 15,
   "metadata": {
    "colab": {
     "base_uri": "https://localhost:8080/",
     "height": 270
    },
    "id": "VKQ3F5zlnooT",
    "outputId": "5e335552-bb59-431a-d0fe-07edfd675897"
   },
   "outputs": [
    {
     "data": {
      "text/html": [
       "<div>\n",
       "<style scoped>\n",
       "    .dataframe tbody tr th:only-of-type {\n",
       "        vertical-align: middle;\n",
       "    }\n",
       "\n",
       "    .dataframe tbody tr th {\n",
       "        vertical-align: top;\n",
       "    }\n",
       "\n",
       "    .dataframe thead th {\n",
       "        text-align: right;\n",
       "    }\n",
       "</style>\n",
       "<table border=\"1\" class=\"dataframe\">\n",
       "  <thead>\n",
       "    <tr style=\"text-align: right;\">\n",
       "      <th></th>\n",
       "      <th>document_id</th>\n",
       "      <th>paciente_id</th>\n",
       "      <th>paciente_idade</th>\n",
       "      <th>paciente_datanascimento</th>\n",
       "      <th>paciente_enumsexobiologico</th>\n",
       "      <th>paciente_racacor_codigo</th>\n",
       "      <th>paciente_racacor_valor</th>\n",
       "      <th>paciente_endereco_coibgemunicipio</th>\n",
       "      <th>paciente_endereco_copais</th>\n",
       "      <th>paciente_endereco_nmmunicipio</th>\n",
       "      <th>...</th>\n",
       "      <th>vacina_lote</th>\n",
       "      <th>vacina_fabricante_nome</th>\n",
       "      <th>vacina_fabricante_referencia</th>\n",
       "      <th>vacina_dataaplicacao</th>\n",
       "      <th>vacina_descricao_dose</th>\n",
       "      <th>vacina_codigo</th>\n",
       "      <th>vacina_nome</th>\n",
       "      <th>sistema_origem</th>\n",
       "      <th>data_importacao_rnds</th>\n",
       "      <th>id_sistema_origem</th>\n",
       "    </tr>\n",
       "  </thead>\n",
       "  <tbody>\n",
       "    <tr>\n",
       "      <th>0</th>\n",
       "      <td>b19cd280-474c-4c22-a35d-8c06bc04a4e0-i0b0</td>\n",
       "      <td>2e091c9a37d3f50d1d705fc80c6448c6fc69b44da9e936...</td>\n",
       "      <td>69</td>\n",
       "      <td>1951-12-28</td>\n",
       "      <td>F</td>\n",
       "      <td>3</td>\n",
       "      <td>PARDA</td>\n",
       "      <td>120050.0</td>\n",
       "      <td>10.0</td>\n",
       "      <td>SENA MADUREIRA</td>\n",
       "      <td>...</td>\n",
       "      <td>210052A</td>\n",
       "      <td>FUNDACAO BUTANTAN</td>\n",
       "      <td>Organization/61189445000156</td>\n",
       "      <td>2021-03-23</td>\n",
       "      <td>1ª Dose</td>\n",
       "      <td>86</td>\n",
       "      <td>Covid-19-Coronavac-Sinovac/Butantan</td>\n",
       "      <td>Novo PNI</td>\n",
       "      <td>2021-03-25T03:27:19.000Z</td>\n",
       "      <td>NaN</td>\n",
       "    </tr>\n",
       "    <tr>\n",
       "      <th>1</th>\n",
       "      <td>a1acc0b6-1cf6-4c4b-adcb-06b473a0faaf-i0b0</td>\n",
       "      <td>f4e17a9e5354cb45e223d85eda02fb2f76048c801675f5...</td>\n",
       "      <td>81</td>\n",
       "      <td>1939-11-22</td>\n",
       "      <td>M</td>\n",
       "      <td>3</td>\n",
       "      <td>PARDA</td>\n",
       "      <td>120040.0</td>\n",
       "      <td>10.0</td>\n",
       "      <td>RIO BRANCO</td>\n",
       "      <td>...</td>\n",
       "      <td>210110</td>\n",
       "      <td>FUNDACAO BUTANTAN</td>\n",
       "      <td>Organization/61189445000156</td>\n",
       "      <td>2021-04-29</td>\n",
       "      <td>2ª Dose</td>\n",
       "      <td>86</td>\n",
       "      <td>Covid-19-Coronavac-Sinovac/Butantan</td>\n",
       "      <td>Novo PNI</td>\n",
       "      <td>2021-04-30T16:03:14.000Z</td>\n",
       "      <td>NaN</td>\n",
       "    </tr>\n",
       "    <tr>\n",
       "      <th>2</th>\n",
       "      <td>af279a98-ba1f-47ea-8214-314a98040b0d-i0b0</td>\n",
       "      <td>6734b26bccf826130ebffa66575977bbe71477b12bcf42...</td>\n",
       "      <td>69</td>\n",
       "      <td>1951-08-14</td>\n",
       "      <td>M</td>\n",
       "      <td>4</td>\n",
       "      <td>AMARELA</td>\n",
       "      <td>120020.0</td>\n",
       "      <td>10.0</td>\n",
       "      <td>CRUZEIRO DO SUL</td>\n",
       "      <td>...</td>\n",
       "      <td>210135</td>\n",
       "      <td>FUNDACAO BUTANTAN</td>\n",
       "      <td>Organization/61189445000156</td>\n",
       "      <td>2021-04-16</td>\n",
       "      <td>1ª Dose</td>\n",
       "      <td>86</td>\n",
       "      <td>Covid-19-Coronavac-Sinovac/Butantan</td>\n",
       "      <td>Novo PNI</td>\n",
       "      <td>2021-04-16T15:54:39.000Z</td>\n",
       "      <td>NaN</td>\n",
       "    </tr>\n",
       "    <tr>\n",
       "      <th>3</th>\n",
       "      <td>4879308e-5050-46bb-b8e2-11fa5646a05c-i0b0</td>\n",
       "      <td>84a341fd350c1ba7117fccbb4d2df417bc0fac0fffac37...</td>\n",
       "      <td>51</td>\n",
       "      <td>1969-12-15</td>\n",
       "      <td>F</td>\n",
       "      <td>3</td>\n",
       "      <td>PARDA</td>\n",
       "      <td>120040.0</td>\n",
       "      <td>10.0</td>\n",
       "      <td>RIO BRANCO</td>\n",
       "      <td>...</td>\n",
       "      <td>202010040</td>\n",
       "      <td>FUNDACAO BUTANTAN</td>\n",
       "      <td>Organization/61189445000156</td>\n",
       "      <td>2021-02-19</td>\n",
       "      <td>2ª Dose</td>\n",
       "      <td>86</td>\n",
       "      <td>Covid-19-Coronavac-Sinovac/Butantan</td>\n",
       "      <td>Novo PNI</td>\n",
       "      <td>2021-03-10T14:40:54.000Z</td>\n",
       "      <td>NaN</td>\n",
       "    </tr>\n",
       "    <tr>\n",
       "      <th>4</th>\n",
       "      <td>000e911b-e3a4-4114-a735-d1f2e6e3797f-i0b0</td>\n",
       "      <td>c59571e19f368d4b0cf08cd3bcabb32e5cd8baad5340f6...</td>\n",
       "      <td>65</td>\n",
       "      <td>1955-11-21</td>\n",
       "      <td>M</td>\n",
       "      <td>3</td>\n",
       "      <td>PARDA</td>\n",
       "      <td>120040.0</td>\n",
       "      <td>10.0</td>\n",
       "      <td>RIO BRANCO</td>\n",
       "      <td>...</td>\n",
       "      <td>212VCD001ZVB</td>\n",
       "      <td>FUNDACAO OSWALDO CRUZ</td>\n",
       "      <td>Organization/33781055000135</td>\n",
       "      <td>2021-03-29</td>\n",
       "      <td>1ª Dose</td>\n",
       "      <td>85</td>\n",
       "      <td>Vacina Covid-19 - Covishield</td>\n",
       "      <td>Novo PNI</td>\n",
       "      <td>2021-04-03T19:44:28.000Z</td>\n",
       "      <td>NaN</td>\n",
       "    </tr>\n",
       "  </tbody>\n",
       "</table>\n",
       "<p>5 rows × 34 columns</p>\n",
       "</div>"
      ],
      "text/plain": [
       "                                 document_id  \\\n",
       "0  b19cd280-474c-4c22-a35d-8c06bc04a4e0-i0b0   \n",
       "1  a1acc0b6-1cf6-4c4b-adcb-06b473a0faaf-i0b0   \n",
       "2  af279a98-ba1f-47ea-8214-314a98040b0d-i0b0   \n",
       "3  4879308e-5050-46bb-b8e2-11fa5646a05c-i0b0   \n",
       "4  000e911b-e3a4-4114-a735-d1f2e6e3797f-i0b0   \n",
       "\n",
       "                                         paciente_id  paciente_idade  \\\n",
       "0  2e091c9a37d3f50d1d705fc80c6448c6fc69b44da9e936...              69   \n",
       "1  f4e17a9e5354cb45e223d85eda02fb2f76048c801675f5...              81   \n",
       "2  6734b26bccf826130ebffa66575977bbe71477b12bcf42...              69   \n",
       "3  84a341fd350c1ba7117fccbb4d2df417bc0fac0fffac37...              51   \n",
       "4  c59571e19f368d4b0cf08cd3bcabb32e5cd8baad5340f6...              65   \n",
       "\n",
       "  paciente_datanascimento paciente_enumsexobiologico  paciente_racacor_codigo  \\\n",
       "0              1951-12-28                          F                        3   \n",
       "1              1939-11-22                          M                        3   \n",
       "2              1951-08-14                          M                        4   \n",
       "3              1969-12-15                          F                        3   \n",
       "4              1955-11-21                          M                        3   \n",
       "\n",
       "  paciente_racacor_valor  paciente_endereco_coibgemunicipio  \\\n",
       "0                  PARDA                           120050.0   \n",
       "1                  PARDA                           120040.0   \n",
       "2                AMARELA                           120020.0   \n",
       "3                  PARDA                           120040.0   \n",
       "4                  PARDA                           120040.0   \n",
       "\n",
       "   paciente_endereco_copais paciente_endereco_nmmunicipio  ...   vacina_lote  \\\n",
       "0                      10.0                SENA MADUREIRA  ...       210052A   \n",
       "1                      10.0                    RIO BRANCO  ...        210110   \n",
       "2                      10.0               CRUZEIRO DO SUL  ...        210135   \n",
       "3                      10.0                    RIO BRANCO  ...     202010040   \n",
       "4                      10.0                    RIO BRANCO  ...  212VCD001ZVB   \n",
       "\n",
       "  vacina_fabricante_nome  vacina_fabricante_referencia vacina_dataaplicacao  \\\n",
       "0      FUNDACAO BUTANTAN   Organization/61189445000156           2021-03-23   \n",
       "1      FUNDACAO BUTANTAN   Organization/61189445000156           2021-04-29   \n",
       "2      FUNDACAO BUTANTAN   Organization/61189445000156           2021-04-16   \n",
       "3      FUNDACAO BUTANTAN   Organization/61189445000156           2021-02-19   \n",
       "4  FUNDACAO OSWALDO CRUZ   Organization/33781055000135           2021-03-29   \n",
       "\n",
       "   vacina_descricao_dose vacina_codigo                          vacina_nome  \\\n",
       "0                1ª Dose            86  Covid-19-Coronavac-Sinovac/Butantan   \n",
       "1                2ª Dose            86  Covid-19-Coronavac-Sinovac/Butantan   \n",
       "2                1ª Dose            86  Covid-19-Coronavac-Sinovac/Butantan   \n",
       "3                2ª Dose            86  Covid-19-Coronavac-Sinovac/Butantan   \n",
       "4                1ª Dose            85         Vacina Covid-19 - Covishield   \n",
       "\n",
       "   sistema_origem      data_importacao_rnds id_sistema_origem  \n",
       "0        Novo PNI  2021-03-25T03:27:19.000Z               NaN  \n",
       "1        Novo PNI  2021-04-30T16:03:14.000Z               NaN  \n",
       "2        Novo PNI  2021-04-16T15:54:39.000Z               NaN  \n",
       "3        Novo PNI  2021-03-10T14:40:54.000Z               NaN  \n",
       "4        Novo PNI  2021-04-03T19:44:28.000Z               NaN  \n",
       "\n",
       "[5 rows x 34 columns]"
      ]
     },
     "execution_count": 15,
     "metadata": {},
     "output_type": "execute_result"
    }
   ],
   "source": [
    "df.head()"
   ]
  },
  {
   "cell_type": "code",
   "execution_count": 20,
   "metadata": {
    "colab": {
     "base_uri": "https://localhost:8080/",
     "height": 502
    },
    "id": "h780SGALnooT",
    "outputId": "854979fc-54ce-4920-94b2-7f57ec225bbc"
   },
   "outputs": [
    {
     "name": "stdout",
     "output_type": "stream",
     "text": [
      "Vacianas na base: ['Covid-19-Coronavac-Sinovac/Butantan' 'Vacina Covid-19 - Covishield'\n",
      " 'Covid-19-AstraZeneca'\n",
      " 'Vacina covid-19 - BNT162b2 - BioNTech/Fosun Pharma/Pfizer'\n",
      " 'Vacina covid-19 - Ad26.COV2.S - Janssen-Cilag']\n",
      "Quantidade de vacians na base: 5\n",
      "Total de registros de vacinação: 169071\n"
     ]
    }
   ],
   "source": [
    "#1.Quantas vacinas estão registradas nessa base? \n",
    "#Total tipo vacinas\n",
    "print(f\"Vacianas na base: {df['vacina_nome'].unique()}\")\n",
    "print(f\"Quantidade de vacians na base: {len(df['vacina_nome'].unique())}\")\n",
    "\n",
    "#Total de registros de vacina\n",
    "print(f\"Total de registros de vacinação: {df.shape[0]}\")\n"
   ]
  },
  {
   "cell_type": "code",
   "execution_count": 22,
   "metadata": {
    "id": "ACV0986CnooU",
    "outputId": "ab9cd1a8-fa95-40b5-e5a2-694257e95096"
   },
   "outputs": [
    {
     "data": {
      "text/plain": [
       "120517"
      ]
     },
     "execution_count": 22,
     "metadata": {},
     "output_type": "execute_result"
    }
   ],
   "source": [
    "#2.Quantos pacientes foram vacinados? (considere um paciente para cada valor único de paciente_id) \n",
    "df['paciente_id'].nunique()"
   ]
  },
  {
   "cell_type": "code",
   "execution_count": 60,
   "metadata": {},
   "outputs": [
    {
     "name": "stdout",
     "output_type": "stream",
     "text": [
      "['\\xa0\\xa0\\xa0\\xa01ª\\xa0Dose' '\\xa0\\xa0\\xa0\\xa02ª\\xa0Dose'\n",
      " '\\xa0\\xa0\\xa0\\xa0Dose\\xa0']\n",
      "119713\n"
     ]
    }
   ],
   "source": [
    "#3.Quantos pacientes únicos tomaram a primeira dose? OBS: Há um caractere especial neste campo. Receba os valores do campo com o método .unique().\n",
    "print(df['vacina_descricao_dose'].unique())\n",
    "df_vacianados_unicos=df.loc[df['vacina_descricao_dose'] == '\\xa0\\xa0\\xa0\\xa01ª\\xa0Dose']\n",
    "\n",
    "print(df_vacianados_unicos['paciente_id'].nunique())\n",
    "\n"
   ]
  },
  {
   "cell_type": "code",
   "execution_count": 73,
   "metadata": {},
   "outputs": [
    {
     "name": "stdout",
     "output_type": "stream",
     "text": [
      "47\n"
     ]
    }
   ],
   "source": [
    "#4.Quantos pacientes com menos de 18 anos foram vacinados? \n",
    "vacinados_menor_18 = df[df['paciente_idade'] < 18]\n",
    "\n",
    "\n",
    "print(vacinados_menor_18['paciente_id'].nunique())"
   ]
  },
  {
   "cell_type": "code",
   "execution_count": 72,
   "metadata": {},
   "outputs": [
    {
     "data": {
      "text/plain": [
       "42"
      ]
     },
     "execution_count": 72,
     "metadata": {},
     "output_type": "execute_result"
    }
   ],
   "source": [
    "#5.Quantos estabelecimentos aplicaram vacina no Acre?\n",
    "df['estabelecimento_razaosocial'].nunique()"
   ]
  },
  {
   "cell_type": "markdown",
   "metadata": {
    "id": "UbKH_y9bnooV"
   },
   "source": [
    "## 4) Vacinação II\n",
    "Gere um *DataFrame* que contenha somente os estabelecimentos que aplicaram vcinas a menores de 18 anos. Nesse *DataFrame* devem conter somente os dados dos estabelecimentos, mais uma coluna sendo a quantidade de vacinas que o estabelecimento aplicou a menores de 18 anos.  \n",
    "  \n",
    "1. crie uma cópia do *DataFrame* original, contendo somente os registros de vacinas realizadas a menores de 18 anos.  \n",
    "2. crie uma lista das colunas desse *DataFrame* com o atributo de *DataFrame* **.columns()**  \n",
    "3. Nesse *DataFrame* faça uma contagem do campo ```vacina_categoria_nome```.\n",
    "3. a partir da lista de colunas, escolha somente aquelas que são referentes ao estabelecimento, faça uma lista com esses valores.  \n",
    "4. usando o método *.loc*, selecione somente essas variáveis  \n",
    "5. Aplique o método **.drop_duplicates** e crie uma lista com uma linha para cada estabelecimento, com os dados do estabelecimento  "
   ]
  },
  {
   "cell_type": "code",
   "execution_count": 74,
   "metadata": {},
   "outputs": [],
   "source": [
    "#1.crie uma cópia do DataFrame original, contendo somente os registros de vacinas realizadas a menores de 18 anos. \n",
    "df_menor_idade = df[df['paciente_idade'] < 18].copy()"
   ]
  },
  {
   "cell_type": "code",
   "execution_count": 80,
   "metadata": {},
   "outputs": [
    {
     "name": "stdout",
     "output_type": "stream",
     "text": [
      "['document_id', 'paciente_id', 'paciente_idade', 'paciente_datanascimento', 'paciente_enumsexobiologico', 'paciente_racacor_codigo', 'paciente_racacor_valor', 'paciente_endereco_coibgemunicipio', 'paciente_endereco_copais', 'paciente_endereco_nmmunicipio', 'paciente_endereco_nmpais', 'paciente_endereco_uf', 'paciente_endereco_cep', 'paciente_nacionalidade_enumnacionalidade', 'estabelecimento_valor', 'estabelecimento_razaosocial', 'estalecimento_nofantasia', 'estabelecimento_municipio_codigo', 'estabelecimento_municipio_nome', 'estabelecimento_uf', 'vacina_grupoatendimento_codigo', 'vacina_grupoatendimento_nome', 'vacina_categoria_codigo', 'vacina_categoria_nome', 'vacina_lote', 'vacina_fabricante_nome', 'vacina_fabricante_referencia', 'vacina_dataaplicacao', 'vacina_descricao_dose', 'vacina_codigo', 'vacina_nome', 'sistema_origem', 'data_importacao_rnds', 'id_sistema_origem']\n"
     ]
    }
   ],
   "source": [
    "#2.crie uma lista das colunas desse DataFrame com o atributo de DataFrame .columns()\n",
    "lista_colunas_df = list(df_menor_idade.columns)\n",
    "print(lista_colunas_df)"
   ]
  },
  {
   "cell_type": "code",
   "execution_count": 79,
   "metadata": {},
   "outputs": [
    {
     "data": {
      "text/plain": [
       "Povos Indígenas                     33\n",
       "Trabalhadores de Saúde               9\n",
       "Povos e Comunidades Tradicionais     9\n",
       "Comorbidades                         2\n",
       "Faixa Etária                         1\n",
       "Name: vacina_categoria_nome, dtype: int64"
      ]
     },
     "execution_count": 79,
     "metadata": {},
     "output_type": "execute_result"
    }
   ],
   "source": [
    "#3.Nesse DataFrame faça uma contagem do campo vacina_categoria_nome.\n",
    "df_menor_idade['vacina_categoria_nome'].value_counts()"
   ]
  },
  {
   "cell_type": "code",
   "execution_count": 88,
   "metadata": {},
   "outputs": [
    {
     "name": "stdout",
     "output_type": "stream",
     "text": [
      "['estabelecimento_valor', 'estabelecimento_razaosocial', 'estalecimento_nofantasia', 'estabelecimento_municipio_codigo', 'estabelecimento_municipio_nome', 'estabelecimento_uf']\n"
     ]
    }
   ],
   "source": [
    "#4.a partir da lista de colunas, escolha somente aquelas que são referentes ao estabelecimento, faça uma lista com esses valores. \n",
    "colunas_estabelecimento = []\n",
    "for i in lista_colunas_df:\n",
    "    if i.find('estabelecimento') == 0:\n",
    "        colunas_estabelecimento.append(i)\n",
    "    elif i.find('estalecimento') == 0:\n",
    "        colunas_estabelecimento.append(i)\n",
    "        \n",
    "print(colunas_estabelecimento)"
   ]
  },
  {
   "cell_type": "code",
   "execution_count": 89,
   "metadata": {},
   "outputs": [
    {
     "data": {
      "text/html": [
       "<div>\n",
       "<style scoped>\n",
       "    .dataframe tbody tr th:only-of-type {\n",
       "        vertical-align: middle;\n",
       "    }\n",
       "\n",
       "    .dataframe tbody tr th {\n",
       "        vertical-align: top;\n",
       "    }\n",
       "\n",
       "    .dataframe thead th {\n",
       "        text-align: right;\n",
       "    }\n",
       "</style>\n",
       "<table border=\"1\" class=\"dataframe\">\n",
       "  <thead>\n",
       "    <tr style=\"text-align: right;\">\n",
       "      <th></th>\n",
       "      <th>estabelecimento_valor</th>\n",
       "      <th>estabelecimento_razaosocial</th>\n",
       "      <th>estalecimento_nofantasia</th>\n",
       "      <th>estabelecimento_municipio_codigo</th>\n",
       "      <th>estabelecimento_municipio_nome</th>\n",
       "      <th>estabelecimento_uf</th>\n",
       "    </tr>\n",
       "  </thead>\n",
       "  <tbody>\n",
       "    <tr>\n",
       "      <th>0</th>\n",
       "      <td>3541592</td>\n",
       "      <td>PREFEITURA MUNICIPAL DE SENA MADUREIRA</td>\n",
       "      <td>UNIDADE BASICA DE SAUDE MARIA DAS DORES DE PAULA</td>\n",
       "      <td>120050</td>\n",
       "      <td>SENA MADUREIRA</td>\n",
       "      <td>AC</td>\n",
       "    </tr>\n",
       "    <tr>\n",
       "      <th>1</th>\n",
       "      <td>6917291</td>\n",
       "      <td>PREFEITURA MUNICIPAL DE RIO BRANCO</td>\n",
       "      <td>DEPARTAMENTO DE VIGILANCIA EPIDEMIOLOGICA E AM...</td>\n",
       "      <td>120040</td>\n",
       "      <td>RIO BRANCO</td>\n",
       "      <td>AC</td>\n",
       "    </tr>\n",
       "    <tr>\n",
       "      <th>2</th>\n",
       "      <td>6159087</td>\n",
       "      <td>PREFEITURA MUNICIPAL DE CRUZEIRO DO SUL</td>\n",
       "      <td>SECRETARIA MUNICIPAL DE SAUDE DE CRUZEIRO DO SUL</td>\n",
       "      <td>120020</td>\n",
       "      <td>CRUZEIRO DO SUL</td>\n",
       "      <td>AC</td>\n",
       "    </tr>\n",
       "    <tr>\n",
       "      <th>3</th>\n",
       "      <td>6917291</td>\n",
       "      <td>PREFEITURA MUNICIPAL DE RIO BRANCO</td>\n",
       "      <td>DEPARTAMENTO DE VIGILANCIA EPIDEMIOLOGICA E AM...</td>\n",
       "      <td>120040</td>\n",
       "      <td>RIO BRANCO</td>\n",
       "      <td>AC</td>\n",
       "    </tr>\n",
       "    <tr>\n",
       "      <th>4</th>\n",
       "      <td>6917291</td>\n",
       "      <td>PREFEITURA MUNICIPAL DE RIO BRANCO</td>\n",
       "      <td>DEPARTAMENTO DE VIGILANCIA EPIDEMIOLOGICA E AM...</td>\n",
       "      <td>120040</td>\n",
       "      <td>RIO BRANCO</td>\n",
       "      <td>AC</td>\n",
       "    </tr>\n",
       "    <tr>\n",
       "      <th>...</th>\n",
       "      <td>...</td>\n",
       "      <td>...</td>\n",
       "      <td>...</td>\n",
       "      <td>...</td>\n",
       "      <td>...</td>\n",
       "      <td>...</td>\n",
       "    </tr>\n",
       "    <tr>\n",
       "      <th>169066</th>\n",
       "      <td>7625855</td>\n",
       "      <td>DISTRITO SANITARIO ESPECIAL INDIGENA ALTO RIO ...</td>\n",
       "      <td>POLO BASE DE MARECHAL THAUMATURGO</td>\n",
       "      <td>120035</td>\n",
       "      <td>MARECHAL THAUMATURGO</td>\n",
       "      <td>AC</td>\n",
       "    </tr>\n",
       "    <tr>\n",
       "      <th>169067</th>\n",
       "      <td>6917291</td>\n",
       "      <td>PREFEITURA MUNICIPAL DE RIO BRANCO</td>\n",
       "      <td>DEPARTAMENTO DE VIGILANCIA EPIDEMIOLOGICA E AM...</td>\n",
       "      <td>120040</td>\n",
       "      <td>RIO BRANCO</td>\n",
       "      <td>AC</td>\n",
       "    </tr>\n",
       "    <tr>\n",
       "      <th>169068</th>\n",
       "      <td>2001039</td>\n",
       "      <td>PREFEITURA MUNICIPAL DE CAPIXABA</td>\n",
       "      <td>UNIDADE DE SAUDE DA FAMILIA DR LUIZ FERNANDO M...</td>\n",
       "      <td>120017</td>\n",
       "      <td>CAPIXABA</td>\n",
       "      <td>AC</td>\n",
       "    </tr>\n",
       "    <tr>\n",
       "      <th>169069</th>\n",
       "      <td>2002876</td>\n",
       "      <td>SECRETARIA MUNCIPAL DE SAUDE</td>\n",
       "      <td>CENTRO DE SAUDE RAIMUNDA PORFIRIO DE BRITO RAMOS</td>\n",
       "      <td>120013</td>\n",
       "      <td>BUJARI</td>\n",
       "      <td>AC</td>\n",
       "    </tr>\n",
       "    <tr>\n",
       "      <th>169070</th>\n",
       "      <td>6917291</td>\n",
       "      <td>PREFEITURA MUNICIPAL DE RIO BRANCO</td>\n",
       "      <td>DEPARTAMENTO DE VIGILANCIA EPIDEMIOLOGICA E AM...</td>\n",
       "      <td>120040</td>\n",
       "      <td>RIO BRANCO</td>\n",
       "      <td>AC</td>\n",
       "    </tr>\n",
       "  </tbody>\n",
       "</table>\n",
       "<p>169071 rows × 6 columns</p>\n",
       "</div>"
      ],
      "text/plain": [
       "        estabelecimento_valor  \\\n",
       "0                     3541592   \n",
       "1                     6917291   \n",
       "2                     6159087   \n",
       "3                     6917291   \n",
       "4                     6917291   \n",
       "...                       ...   \n",
       "169066                7625855   \n",
       "169067                6917291   \n",
       "169068                2001039   \n",
       "169069                2002876   \n",
       "169070                6917291   \n",
       "\n",
       "                              estabelecimento_razaosocial  \\\n",
       "0                  PREFEITURA MUNICIPAL DE SENA MADUREIRA   \n",
       "1                      PREFEITURA MUNICIPAL DE RIO BRANCO   \n",
       "2                 PREFEITURA MUNICIPAL DE CRUZEIRO DO SUL   \n",
       "3                      PREFEITURA MUNICIPAL DE RIO BRANCO   \n",
       "4                      PREFEITURA MUNICIPAL DE RIO BRANCO   \n",
       "...                                                   ...   \n",
       "169066  DISTRITO SANITARIO ESPECIAL INDIGENA ALTO RIO ...   \n",
       "169067                 PREFEITURA MUNICIPAL DE RIO BRANCO   \n",
       "169068                   PREFEITURA MUNICIPAL DE CAPIXABA   \n",
       "169069                       SECRETARIA MUNCIPAL DE SAUDE   \n",
       "169070                 PREFEITURA MUNICIPAL DE RIO BRANCO   \n",
       "\n",
       "                                 estalecimento_nofantasia  \\\n",
       "0        UNIDADE BASICA DE SAUDE MARIA DAS DORES DE PAULA   \n",
       "1       DEPARTAMENTO DE VIGILANCIA EPIDEMIOLOGICA E AM...   \n",
       "2        SECRETARIA MUNICIPAL DE SAUDE DE CRUZEIRO DO SUL   \n",
       "3       DEPARTAMENTO DE VIGILANCIA EPIDEMIOLOGICA E AM...   \n",
       "4       DEPARTAMENTO DE VIGILANCIA EPIDEMIOLOGICA E AM...   \n",
       "...                                                   ...   \n",
       "169066                  POLO BASE DE MARECHAL THAUMATURGO   \n",
       "169067  DEPARTAMENTO DE VIGILANCIA EPIDEMIOLOGICA E AM...   \n",
       "169068  UNIDADE DE SAUDE DA FAMILIA DR LUIZ FERNANDO M...   \n",
       "169069   CENTRO DE SAUDE RAIMUNDA PORFIRIO DE BRITO RAMOS   \n",
       "169070  DEPARTAMENTO DE VIGILANCIA EPIDEMIOLOGICA E AM...   \n",
       "\n",
       "        estabelecimento_municipio_codigo estabelecimento_municipio_nome  \\\n",
       "0                                 120050                 SENA MADUREIRA   \n",
       "1                                 120040                     RIO BRANCO   \n",
       "2                                 120020                CRUZEIRO DO SUL   \n",
       "3                                 120040                     RIO BRANCO   \n",
       "4                                 120040                     RIO BRANCO   \n",
       "...                                  ...                            ...   \n",
       "169066                            120035           MARECHAL THAUMATURGO   \n",
       "169067                            120040                     RIO BRANCO   \n",
       "169068                            120017                       CAPIXABA   \n",
       "169069                            120013                         BUJARI   \n",
       "169070                            120040                     RIO BRANCO   \n",
       "\n",
       "       estabelecimento_uf  \n",
       "0                      AC  \n",
       "1                      AC  \n",
       "2                      AC  \n",
       "3                      AC  \n",
       "4                      AC  \n",
       "...                   ...  \n",
       "169066                 AC  \n",
       "169067                 AC  \n",
       "169068                 AC  \n",
       "169069                 AC  \n",
       "169070                 AC  \n",
       "\n",
       "[169071 rows x 6 columns]"
      ]
     },
     "execution_count": 89,
     "metadata": {},
     "output_type": "execute_result"
    }
   ],
   "source": [
    "#5.usando o método .loc, selecione somente essas variáveis \n",
    "df.loc[:,colunas_estabelecimento]"
   ]
  },
  {
   "cell_type": "code",
   "execution_count": 102,
   "metadata": {},
   "outputs": [
    {
     "name": "stdout",
     "output_type": "stream",
     "text": [
      "(169071, 6)\n",
      "(103, 6)\n"
     ]
    }
   ],
   "source": [
    "#6.Aplique o método .drop_duplicates e crie uma lista com uma linha para cada estabelecimento, com os dados do estabelecimento\n",
    "\n",
    "info_estabelecimento = df.loc[:,colunas_estabelecimento]\n",
    "info_estabelecimento2 = info_estabelecimento.drop_duplicates()\n",
    "print(info_estabelecimento.shape)\n",
    "print(info_estabelecimento2.shape)\n",
    "\n"
   ]
  }
 ],
 "metadata": {
  "colab": {
   "provenance": []
  },
  "kernelspec": {
   "display_name": "Python 3 (ipykernel)",
   "language": "python",
   "name": "python3"
  },
  "language_info": {
   "codemirror_mode": {
    "name": "ipython",
    "version": 3
   },
   "file_extension": ".py",
   "mimetype": "text/x-python",
   "name": "python",
   "nbconvert_exporter": "python",
   "pygments_lexer": "ipython3",
   "version": "3.9.13"
  },
  "toc": {
   "base_numbering": 1,
   "nav_menu": {},
   "number_sections": false,
   "sideBar": true,
   "skip_h1_title": true,
   "title_cell": "Índice",
   "title_sidebar": "Conteúdo",
   "toc_cell": false,
   "toc_position": {},
   "toc_section_display": true,
   "toc_window_display": false
  },
  "varInspector": {
   "cols": {
    "lenName": 16,
    "lenType": 16,
    "lenVar": 40
   },
   "kernels_config": {
    "python": {
     "delete_cmd_postfix": "",
     "delete_cmd_prefix": "del ",
     "library": "var_list.py",
     "varRefreshCmd": "print(var_dic_list())"
    },
    "r": {
     "delete_cmd_postfix": ") ",
     "delete_cmd_prefix": "rm(",
     "library": "var_list.r",
     "varRefreshCmd": "cat(var_dic_list()) "
    }
   },
   "types_to_exclude": [
    "module",
    "function",
    "builtin_function_or_method",
    "instance",
    "_Feature"
   ],
   "window_display": false
  }
 },
 "nbformat": 4,
 "nbformat_minor": 1
}
